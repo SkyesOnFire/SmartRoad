{
 "cells": [
  {
   "cell_type": "code",
   "execution_count": 1,
   "id": "b8658aeb-4319-48ab-8301-a95148841871",
   "metadata": {},
   "outputs": [],
   "source": [
    "import requests "
   ]
  },
  {
   "cell_type": "code",
   "execution_count": 16,
   "id": "21361045-6b07-4e8b-9c9b-057441a41fe4",
   "metadata": {},
   "outputs": [
    {
     "name": "stdout",
     "output_type": "stream",
     "text": [
      "Leitura gravada com sucesso\n"
     ]
    }
   ],
   "source": [
    "# base_url = 'https://smartroad-backend-uerfdgcurq-uc.a.run.app'\n",
    "base_url = 'http://localhost:3333'\n",
    "\n",
    "auth = {'cpf': '123.123.123-12', 'senha': '321321'}\n",
    "\n",
    "token = requests.post(f'{base_url}/sessions', json=auth)\n",
    "\n",
    "token = token.json()['token']\n",
    "\n",
    "tag_name = '05B1CC65'\n",
    "local_id = 2\n",
    "\n",
    "leitura = requests.post(f'{base_url}/leituras/local?tag_name={tag_name}&local_id={local_id}')\n",
    "\n",
    "if 'id' in leitura.json(): \n",
    "    print('Leitura gravada com sucesso')"
   ]
  },
  {
   "cell_type": "code",
   "execution_count": null,
   "id": "dc62c890-1744-4f59-9712-82ab8586402f",
   "metadata": {},
   "outputs": [],
   "source": []
  }
 ],
 "metadata": {
  "kernelspec": {
   "display_name": "Python 3 (ipykernel)",
   "language": "python",
   "name": "python3"
  },
  "language_info": {
   "codemirror_mode": {
    "name": "ipython",
    "version": 3
   },
   "file_extension": ".py",
   "mimetype": "text/x-python",
   "name": "python",
   "nbconvert_exporter": "python",
   "pygments_lexer": "ipython3",
   "version": "3.8.10"
  }
 },
 "nbformat": 4,
 "nbformat_minor": 5
}
